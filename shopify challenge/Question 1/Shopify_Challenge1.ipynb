{
 "cells": [
  {
   "cell_type": "markdown",
   "id": "92e46210",
   "metadata": {},
   "source": [
    "#                                         Shopify Challenge"
   ]
  },
  {
   "cell_type": "code",
   "execution_count": 1,
   "id": "1cca9f40",
   "metadata": {},
   "outputs": [],
   "source": [
    "# Importing required libraries\n",
    "import pandas as pd\n",
    "import numpy as np\n",
    "import seaborn as sns\n",
    "import matplotlib as plt\n",
    "from matplotlib import pyplot\n",
    "%matplotlib inline"
   ]
  },
  {
   "cell_type": "code",
   "execution_count": 2,
   "id": "c7f8e5f4",
   "metadata": {},
   "outputs": [
    {
     "data": {
      "text/html": [
       "<div>\n",
       "<style scoped>\n",
       "    .dataframe tbody tr th:only-of-type {\n",
       "        vertical-align: middle;\n",
       "    }\n",
       "\n",
       "    .dataframe tbody tr th {\n",
       "        vertical-align: top;\n",
       "    }\n",
       "\n",
       "    .dataframe thead th {\n",
       "        text-align: right;\n",
       "    }\n",
       "</style>\n",
       "<table border=\"1\" class=\"dataframe\">\n",
       "  <thead>\n",
       "    <tr style=\"text-align: right;\">\n",
       "      <th></th>\n",
       "      <th>order_id</th>\n",
       "      <th>shop_id</th>\n",
       "      <th>user_id</th>\n",
       "      <th>order_amount</th>\n",
       "      <th>total_items</th>\n",
       "      <th>payment_method</th>\n",
       "      <th>created_at</th>\n",
       "    </tr>\n",
       "  </thead>\n",
       "  <tbody>\n",
       "    <tr>\n",
       "      <th>0</th>\n",
       "      <td>1</td>\n",
       "      <td>53</td>\n",
       "      <td>746</td>\n",
       "      <td>224</td>\n",
       "      <td>2</td>\n",
       "      <td>cash</td>\n",
       "      <td>2017-03-13 12:36:56</td>\n",
       "    </tr>\n",
       "    <tr>\n",
       "      <th>1</th>\n",
       "      <td>2</td>\n",
       "      <td>92</td>\n",
       "      <td>925</td>\n",
       "      <td>90</td>\n",
       "      <td>1</td>\n",
       "      <td>cash</td>\n",
       "      <td>2017-03-03 17:38:52</td>\n",
       "    </tr>\n",
       "    <tr>\n",
       "      <th>2</th>\n",
       "      <td>3</td>\n",
       "      <td>44</td>\n",
       "      <td>861</td>\n",
       "      <td>144</td>\n",
       "      <td>1</td>\n",
       "      <td>cash</td>\n",
       "      <td>2017-03-14 4:23:56</td>\n",
       "    </tr>\n",
       "    <tr>\n",
       "      <th>3</th>\n",
       "      <td>4</td>\n",
       "      <td>18</td>\n",
       "      <td>935</td>\n",
       "      <td>156</td>\n",
       "      <td>1</td>\n",
       "      <td>credit_card</td>\n",
       "      <td>2017-03-26 12:43:37</td>\n",
       "    </tr>\n",
       "    <tr>\n",
       "      <th>4</th>\n",
       "      <td>5</td>\n",
       "      <td>18</td>\n",
       "      <td>883</td>\n",
       "      <td>156</td>\n",
       "      <td>1</td>\n",
       "      <td>credit_card</td>\n",
       "      <td>2017-03-01 4:35:11</td>\n",
       "    </tr>\n",
       "  </tbody>\n",
       "</table>\n",
       "</div>"
      ],
      "text/plain": [
       "   order_id  shop_id  user_id  order_amount  total_items payment_method  \\\n",
       "0         1       53      746           224            2           cash   \n",
       "1         2       92      925            90            1           cash   \n",
       "2         3       44      861           144            1           cash   \n",
       "3         4       18      935           156            1    credit_card   \n",
       "4         5       18      883           156            1    credit_card   \n",
       "\n",
       "            created_at  \n",
       "0  2017-03-13 12:36:56  \n",
       "1  2017-03-03 17:38:52  \n",
       "2   2017-03-14 4:23:56  \n",
       "3  2017-03-26 12:43:37  \n",
       "4   2017-03-01 4:35:11  "
      ]
     },
     "execution_count": 2,
     "metadata": {},
     "output_type": "execute_result"
    }
   ],
   "source": [
    "# Importing the data set\n",
    "df = pd.read_csv('data_set.csv')\n",
    "df.head()"
   ]
  },
  {
   "cell_type": "code",
   "execution_count": 3,
   "id": "b6afb3b4",
   "metadata": {},
   "outputs": [
    {
     "name": "stdout",
     "output_type": "stream",
     "text": [
      "(rows,columns) =  (5000, 7) \n",
      " Data types:\n",
      " order_id           int64\n",
      "shop_id            int64\n",
      "user_id            int64\n",
      "order_amount       int64\n",
      "total_items        int64\n",
      "payment_method    object\n",
      "created_at        object\n",
      "dtype: object\n"
     ]
    }
   ],
   "source": [
    "# Checking the data types\n",
    "print(\"(rows,columns) = \" ,df.shape ,\"\\n\",\"Data types:\\n\" ,df.dtypes)"
   ]
  },
  {
   "cell_type": "code",
   "execution_count": 4,
   "id": "12048ec1",
   "metadata": {},
   "outputs": [
    {
     "name": "stdout",
     "output_type": "stream",
     "text": [
      "order_id\n",
      "False    5000\n",
      "Name: order_id, dtype: int64\n",
      " \n",
      "shop_id\n",
      "False    5000\n",
      "Name: shop_id, dtype: int64\n",
      " \n",
      "user_id\n",
      "False    5000\n",
      "Name: user_id, dtype: int64\n",
      " \n",
      "order_amount\n",
      "False    5000\n",
      "Name: order_amount, dtype: int64\n",
      " \n",
      "total_items\n",
      "False    5000\n",
      "Name: total_items, dtype: int64\n",
      " \n",
      "payment_method\n",
      "False    5000\n",
      "Name: payment_method, dtype: int64\n",
      " \n",
      "created_at\n",
      "False    5000\n",
      "Name: created_at, dtype: int64\n",
      " \n"
     ]
    }
   ],
   "source": [
    "# Checkng the missing values if any\n",
    "\n",
    "missing_data = df.isnull()\n",
    "\n",
    "for column in missing_data:\n",
    " print(column)\n",
    " print(missing_data[column].value_counts())\n",
    " print(\" \")"
   ]
  },
  {
   "cell_type": "markdown",
   "id": "bebec569",
   "metadata": {},
   "source": [
    "Since there are no \"True\" values in any of the columns,It is clear that there are no missing values in the data set."
   ]
  },
  {
   "cell_type": "code",
   "execution_count": 5,
   "id": "6c38c3c6",
   "metadata": {},
   "outputs": [
    {
     "data": {
      "text/html": [
       "<div>\n",
       "<style scoped>\n",
       "    .dataframe tbody tr th:only-of-type {\n",
       "        vertical-align: middle;\n",
       "    }\n",
       "\n",
       "    .dataframe tbody tr th {\n",
       "        vertical-align: top;\n",
       "    }\n",
       "\n",
       "    .dataframe thead th {\n",
       "        text-align: right;\n",
       "    }\n",
       "</style>\n",
       "<table border=\"1\" class=\"dataframe\">\n",
       "  <thead>\n",
       "    <tr style=\"text-align: right;\">\n",
       "      <th></th>\n",
       "      <th>order_amount</th>\n",
       "      <th>total_items</th>\n",
       "    </tr>\n",
       "  </thead>\n",
       "  <tbody>\n",
       "    <tr>\n",
       "      <th>count</th>\n",
       "      <td>5000.000000</td>\n",
       "      <td>5000.00000</td>\n",
       "    </tr>\n",
       "    <tr>\n",
       "      <th>mean</th>\n",
       "      <td>3145.128000</td>\n",
       "      <td>8.78720</td>\n",
       "    </tr>\n",
       "    <tr>\n",
       "      <th>std</th>\n",
       "      <td>41282.539349</td>\n",
       "      <td>116.32032</td>\n",
       "    </tr>\n",
       "    <tr>\n",
       "      <th>min</th>\n",
       "      <td>90.000000</td>\n",
       "      <td>1.00000</td>\n",
       "    </tr>\n",
       "    <tr>\n",
       "      <th>25%</th>\n",
       "      <td>163.000000</td>\n",
       "      <td>1.00000</td>\n",
       "    </tr>\n",
       "    <tr>\n",
       "      <th>50%</th>\n",
       "      <td>284.000000</td>\n",
       "      <td>2.00000</td>\n",
       "    </tr>\n",
       "    <tr>\n",
       "      <th>75%</th>\n",
       "      <td>390.000000</td>\n",
       "      <td>3.00000</td>\n",
       "    </tr>\n",
       "    <tr>\n",
       "      <th>max</th>\n",
       "      <td>704000.000000</td>\n",
       "      <td>2000.00000</td>\n",
       "    </tr>\n",
       "  </tbody>\n",
       "</table>\n",
       "</div>"
      ],
      "text/plain": [
       "        order_amount  total_items\n",
       "count    5000.000000   5000.00000\n",
       "mean     3145.128000      8.78720\n",
       "std     41282.539349    116.32032\n",
       "min        90.000000      1.00000\n",
       "25%       163.000000      1.00000\n",
       "50%       284.000000      2.00000\n",
       "75%       390.000000      3.00000\n",
       "max    704000.000000   2000.00000"
      ]
     },
     "execution_count": 5,
     "metadata": {},
     "output_type": "execute_result"
    }
   ],
   "source": [
    "# Checking the stats of the \"order_amount\" and \"total_items\"\n",
    "df[[\"order_amount\",\"total_items\"]].describe()"
   ]
  },
  {
   "cell_type": "markdown",
   "id": "d298e13b",
   "metadata": {},
   "source": [
    "According to the above statistics, it seems that there are couple of outliers in our data as the maximum value of both the columns is way more higher than minimum value,25%,50%,&75% IQR's. Let's go ahead and deal with the outliers in our data.\n",
    "\n",
    "The most common way to detect the outliers is by histogram plot or box plot. "
   ]
  },
  {
   "cell_type": "code",
   "execution_count": 6,
   "id": "88611a39",
   "metadata": {},
   "outputs": [
    {
     "data": {
      "text/plain": [
       "Text(0.5, 1.0, 'order_amount histogram')"
      ]
     },
     "execution_count": 6,
     "metadata": {},
     "output_type": "execute_result"
    },
    {
     "data": {
      "image/png": "[encoded data removed]",
      "text/plain": [
       "<Figure size 432x288 with 1 Axes>"
      ]
     },
     "metadata": {
      "needs_background": "light"
     },
     "output_type": "display_data"
    }
   ],
   "source": [
    "# Plotting histogram using matplotlib\n",
    "plt.pyplot.hist(df[\"order_amount\"])\n",
    "plt.pyplot.xlabel(\"order_amount\")\n",
    "plt.pyplot.ylabel(\"count\")\n",
    "plt.pyplot.title(\"order_amount histogram\")"
   ]
  },
  {
   "cell_type": "markdown",
   "id": "6a363316",
   "metadata": {},
   "source": [
    "It seems that most of our data is located in only one bin according to the above histogram. However, it is very difficult to analyze the range of the bins exactly using visual representation. This can be solved by using numpy histogram where we can get an array of the bin ranges.  "
   ]
  },
  {
   "cell_type": "code",
   "execution_count": 76,
   "id": "1f1d9a7c",
   "metadata": {},
   "outputs": [
    {
     "name": "stderr",
     "output_type": "stream",
     "text": [
      "<ipython-input-76-cfc0917b8177>:10: SettingWithCopyWarning: \n",
      "A value is trying to be set on a copy of a slice from a DataFrame.\n",
      "Try using .loc[row_indexer,col_indexer] = value instead\n",
      "\n",
      "See the caveats in the documentation: https://pandas.pydata.org/pandas-docs/stable/user_guide/indexing.html#returning-a-view-versus-a-copy\n",
      "  df4[\"2\"] = df4[1]+1000 # Adding another column to schek the range\n"
     ]
    },
    {
     "data": {
      "text/html": [
       "<div>\n",
       "<style scoped>\n",
       "    .dataframe tbody tr th:only-of-type {\n",
       "        vertical-align: middle;\n",
       "    }\n",
       "\n",
       "    .dataframe tbody tr th {\n",
       "        vertical-align: top;\n",
       "    }\n",
       "\n",
       "    .dataframe thead th {\n",
       "        text-align: right;\n",
       "    }\n",
       "</style>\n",
       "<table border=\"1\" class=\"dataframe\">\n",
       "  <thead>\n",
       "    <tr style=\"text-align: right;\">\n",
       "      <th></th>\n",
       "      <th>0</th>\n",
       "      <th>1</th>\n",
       "      <th>2</th>\n",
       "    </tr>\n",
       "  </thead>\n",
       "  <tbody>\n",
       "    <tr>\n",
       "      <th>0</th>\n",
       "      <td>4934.0</td>\n",
       "      <td>90.000000</td>\n",
       "      <td>1090.000000</td>\n",
       "    </tr>\n",
       "    <tr>\n",
       "      <th>1</th>\n",
       "      <td>3.0</td>\n",
       "      <td>1095.585714</td>\n",
       "      <td>2095.585714</td>\n",
       "    </tr>\n",
       "    <tr>\n",
       "      <th>25</th>\n",
       "      <td>19.0</td>\n",
       "      <td>25229.642857</td>\n",
       "      <td>26229.642857</td>\n",
       "    </tr>\n",
       "    <tr>\n",
       "      <th>51</th>\n",
       "      <td>16.0</td>\n",
       "      <td>51374.871429</td>\n",
       "      <td>52374.871429</td>\n",
       "    </tr>\n",
       "    <tr>\n",
       "      <th>76</th>\n",
       "      <td>9.0</td>\n",
       "      <td>76514.514286</td>\n",
       "      <td>77514.514286</td>\n",
       "    </tr>\n",
       "    <tr>\n",
       "      <th>102</th>\n",
       "      <td>1.0</td>\n",
       "      <td>102659.742857</td>\n",
       "      <td>103659.742857</td>\n",
       "    </tr>\n",
       "    <tr>\n",
       "      <th>153</th>\n",
       "      <td>1.0</td>\n",
       "      <td>153944.614286</td>\n",
       "      <td>154944.614286</td>\n",
       "    </tr>\n",
       "    <tr>\n",
       "      <th>699</th>\n",
       "      <td>17.0</td>\n",
       "      <td>702994.414286</td>\n",
       "      <td>703994.414286</td>\n",
       "    </tr>\n",
       "    <tr>\n",
       "      <th>700</th>\n",
       "      <td>NaN</td>\n",
       "      <td>704000.000000</td>\n",
       "      <td>705000.000000</td>\n",
       "    </tr>\n",
       "  </tbody>\n",
       "</table>\n",
       "</div>"
      ],
      "text/plain": [
       "          0              1              2\n",
       "0    4934.0      90.000000    1090.000000\n",
       "1       3.0    1095.585714    2095.585714\n",
       "25     19.0   25229.642857   26229.642857\n",
       "51     16.0   51374.871429   52374.871429\n",
       "76      9.0   76514.514286   77514.514286\n",
       "102     1.0  102659.742857  103659.742857\n",
       "153     1.0  153944.614286  154944.614286\n",
       "699    17.0  702994.414286  703994.414286\n",
       "700     NaN  704000.000000  705000.000000"
      ]
     },
     "execution_count": 76,
     "metadata": {},
     "output_type": "execute_result"
    }
   ],
   "source": [
    "#Buiding numpy histogram\n",
    "np.set_printoptions(suppress=True) #To eliminate the scientific notation\n",
    "np_histogram = np.histogram(df[\"order_amount\"],bins = 700) # chosen bin value 700 so that the range difference is 1000\n",
    "\n",
    "# Trasforming above numpy histogram into dataframe with non-zero values \n",
    "df2 = pd.DataFrame(data=np_histogram)\n",
    "df3 = df2.T\n",
    "df4=df3.loc[(df3[[0]] != 0).all(axis=1)] #Pulling out the bins with non-zero value\n",
    "df4\n",
    "df4[\"2\"] = df4[1]+1000 # Adding another column to schek the range\n",
    "df4 #Please note that the columns \"1\" and \"2\" are the range of the bins in the histogram"
   ]
  },
  {
   "cell_type": "markdown",
   "id": "dd1c5599",
   "metadata": {},
   "source": [
    "According to the above observation, it is clear that out of 5000 values we have 4937 values pilled up in range of 90 - 2095 i.e., about 98.72% of the data lies in the price range of 90-2095 dollars. This demostrates that our data has only 1.3% of outliers. Since we cannot investigate or make any assumptions weather our outliers are genuine or mistaken, For this scenario, the order value ranging above $2000 are considered as outliers and are neglected. "
   ]
  },
  {
   "cell_type": "markdown",
   "id": "32ff71fb",
   "metadata": {},
   "source": [
    "The further step involves removing the outlires i.e.,the rows whose order amount is greater than $2000.This step is performed in mySQL, the script for SQL is saved as \"DATA_CLEANING\".txt\" in the reposiotry for verification. \n"
   ]
  },
  {
   "cell_type": "code",
   "execution_count": 8,
   "id": "1d3efe79",
   "metadata": {},
   "outputs": [
    {
     "data": {
      "text/html": [
       "<div>\n",
       "<style scoped>\n",
       "    .dataframe tbody tr th:only-of-type {\n",
       "        vertical-align: middle;\n",
       "    }\n",
       "\n",
       "    .dataframe tbody tr th {\n",
       "        vertical-align: top;\n",
       "    }\n",
       "\n",
       "    .dataframe thead th {\n",
       "        text-align: right;\n",
       "    }\n",
       "</style>\n",
       "<table border=\"1\" class=\"dataframe\">\n",
       "  <thead>\n",
       "    <tr style=\"text-align: right;\">\n",
       "      <th></th>\n",
       "      <th>order_id</th>\n",
       "      <th>shop_id</th>\n",
       "      <th>user_id</th>\n",
       "      <th>order_amount</th>\n",
       "      <th>total_items</th>\n",
       "      <th>payment_method</th>\n",
       "      <th>created_at</th>\n",
       "    </tr>\n",
       "  </thead>\n",
       "  <tbody>\n",
       "    <tr>\n",
       "      <th>0</th>\n",
       "      <td>1</td>\n",
       "      <td>53</td>\n",
       "      <td>746</td>\n",
       "      <td>224</td>\n",
       "      <td>2</td>\n",
       "      <td>cash</td>\n",
       "      <td>2017-03-13 12:36:56</td>\n",
       "    </tr>\n",
       "    <tr>\n",
       "      <th>1</th>\n",
       "      <td>2</td>\n",
       "      <td>92</td>\n",
       "      <td>925</td>\n",
       "      <td>90</td>\n",
       "      <td>1</td>\n",
       "      <td>cash</td>\n",
       "      <td>2017-03-03 17:38:52</td>\n",
       "    </tr>\n",
       "    <tr>\n",
       "      <th>2</th>\n",
       "      <td>3</td>\n",
       "      <td>44</td>\n",
       "      <td>861</td>\n",
       "      <td>144</td>\n",
       "      <td>1</td>\n",
       "      <td>cash</td>\n",
       "      <td>2017-03-14 4:23:56</td>\n",
       "    </tr>\n",
       "    <tr>\n",
       "      <th>3</th>\n",
       "      <td>4</td>\n",
       "      <td>18</td>\n",
       "      <td>935</td>\n",
       "      <td>156</td>\n",
       "      <td>1</td>\n",
       "      <td>credit_card</td>\n",
       "      <td>2017-03-26 12:43:37</td>\n",
       "    </tr>\n",
       "    <tr>\n",
       "      <th>4</th>\n",
       "      <td>5</td>\n",
       "      <td>18</td>\n",
       "      <td>883</td>\n",
       "      <td>156</td>\n",
       "      <td>1</td>\n",
       "      <td>credit_card</td>\n",
       "      <td>2017-03-01 4:35:11</td>\n",
       "    </tr>\n",
       "  </tbody>\n",
       "</table>\n",
       "</div>"
      ],
      "text/plain": [
       "   order_id  shop_id  user_id  order_amount  total_items payment_method  \\\n",
       "0         1       53      746           224            2           cash   \n",
       "1         2       92      925            90            1           cash   \n",
       "2         3       44      861           144            1           cash   \n",
       "3         4       18      935           156            1    credit_card   \n",
       "4         5       18      883           156            1    credit_card   \n",
       "\n",
       "            created_at  \n",
       "0  2017-03-13 12:36:56  \n",
       "1  2017-03-03 17:38:52  \n",
       "2   2017-03-14 4:23:56  \n",
       "3  2017-03-26 12:43:37  \n",
       "4   2017-03-01 4:35:11  "
      ]
     },
     "execution_count": 8,
     "metadata": {},
     "output_type": "execute_result"
    }
   ],
   "source": [
    "# Importing the new updated data which performed in SQL\n",
    "df2 = pd.read_csv('cleaned_data_set.csv')\n",
    "df2.head()"
   ]
  },
  {
   "cell_type": "markdown",
   "id": "a8caa3da",
   "metadata": {},
   "source": [
    "Since we have cleaned the data and removed the posiible outliers, we can now calculate the avereage value of our order_amount."
   ]
  },
  {
   "cell_type": "code",
   "execution_count": 9,
   "id": "6e535a22",
   "metadata": {},
   "outputs": [
    {
     "name": "stdout",
     "output_type": "stream",
     "text": [
      "Average order value = 302.58051448247926\n"
     ]
    }
   ],
   "source": [
    "AOV = df1[\"order_amount\"].mean()\n",
    "print(\"Average order value =\",AOV)"
   ]
  },
  {
   "cell_type": "markdown",
   "id": "425773fe",
   "metadata": {},
   "source": [
    "The total_items are not considered in the above operation. As total_items differs for each order, it would be more accurate if we can average the order_amount by grouping the total_items."
   ]
  },
  {
   "cell_type": "code",
   "execution_count": 10,
   "id": "dc326d96",
   "metadata": {},
   "outputs": [
    {
     "data": {
      "text/html": [
       "<div>\n",
       "<style scoped>\n",
       "    .dataframe tbody tr th:only-of-type {\n",
       "        vertical-align: middle;\n",
       "    }\n",
       "\n",
       "    .dataframe tbody tr th {\n",
       "        vertical-align: top;\n",
       "    }\n",
       "\n",
       "    .dataframe thead th {\n",
       "        text-align: right;\n",
       "    }\n",
       "</style>\n",
       "<table border=\"1\" class=\"dataframe\">\n",
       "  <thead>\n",
       "    <tr style=\"text-align: right;\">\n",
       "      <th></th>\n",
       "      <th>total_items</th>\n",
       "      <th>Average_order_amount</th>\n",
       "    </tr>\n",
       "  </thead>\n",
       "  <tbody>\n",
       "    <tr>\n",
       "      <th>0</th>\n",
       "      <td>1</td>\n",
       "      <td>151.850911</td>\n",
       "    </tr>\n",
       "    <tr>\n",
       "      <th>1</th>\n",
       "      <td>2</td>\n",
       "      <td>303.520925</td>\n",
       "    </tr>\n",
       "    <tr>\n",
       "      <th>2</th>\n",
       "      <td>3</td>\n",
       "      <td>457.326180</td>\n",
       "    </tr>\n",
       "    <tr>\n",
       "      <th>3</th>\n",
       "      <td>4</td>\n",
       "      <td>598.534247</td>\n",
       "    </tr>\n",
       "    <tr>\n",
       "      <th>4</th>\n",
       "      <td>5</td>\n",
       "      <td>759.350649</td>\n",
       "    </tr>\n",
       "    <tr>\n",
       "      <th>5</th>\n",
       "      <td>6</td>\n",
       "      <td>888.750000</td>\n",
       "    </tr>\n",
       "    <tr>\n",
       "      <th>6</th>\n",
       "      <td>8</td>\n",
       "      <td>1064.000000</td>\n",
       "    </tr>\n",
       "  </tbody>\n",
       "</table>\n",
       "</div>"
      ],
      "text/plain": [
       "   total_items  Average_order_amount\n",
       "0            1            151.850911\n",
       "1            2            303.520925\n",
       "2            3            457.326180\n",
       "3            4            598.534247\n",
       "4            5            759.350649\n",
       "5            6            888.750000\n",
       "6            8           1064.000000"
      ]
     },
     "execution_count": 10,
     "metadata": {},
     "output_type": "execute_result"
    }
   ],
   "source": [
    "# Averaging the order_amount by grouping the total_items.\n",
    "df_grouping = df1[['order_amount', 'total_items']]\n",
    "df_grouping = df_grouping.groupby(['total_items'],as_index= False).mean()\n",
    "df_grouping.rename(columns={'order_amount': 'Average_order_amount'}, inplace=True)\n",
    "df_grouping"
   ]
  },
  {
   "cell_type": "markdown",
   "id": "88ae51d9",
   "metadata": {},
   "source": [
    "### Answers to the following questions asked in the challenge\n",
    "\n",
    "Question 1:Think about what could be going wrong with our calculation. Think about a better way to evaluate this data.\n",
    "\n",
    "Answer: I assume that the data cleanig was not done before which had led to unlreliable average which was $3154.13.\n",
    "\n",
    "\n",
    "Question 2: What metric would you report for this dataset?\n",
    "\n",
    "Answer: Since the total_items values differs for eaach order amount, I would use average_order_amount for total_items in an order.\n",
    "\n",
    "\n",
    "Question 3:What is its value?\n",
    "\n",
    "Answer: The Average order value is 302.58 if the outliers such as order with 2000 total_items are not considered. Also we can get a detail report by looking into Average order amount for total_items which is showed in the output of previous cell."
   ]
  }
 ],
 "metadata": {
  "kernelspec": {
   "display_name": "Python 3",
   "language": "python",
   "name": "python3"
  },
  "language_info": {
   "codemirror_mode": {
    "name": "ipython",
    "version": 3
   },
   "file_extension": ".py",
   "mimetype": "text/x-python",
   "name": "python",
   "nbconvert_exporter": "python",
   "pygments_lexer": "ipython3",
   "version": "3.8.8"
  }
 },
 "nbformat": 4,
 "nbformat_minor": 5
}
